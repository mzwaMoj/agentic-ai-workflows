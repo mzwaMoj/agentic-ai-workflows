{
 "cells": [
  {
   "cell_type": "markdown",
   "id": "20536ec2",
   "metadata": {},
   "source": [
    "# Building a Basic Chatbot with Large Language Models (LLMs)\n",
    "\n",
    "Large Language Models (LLMs) have revolutionized the way we interact with technology, making it possible to create sophisticated conversational AI with relative ease. This notebook will guide you through the fundamental steps of building a basic chatbot using Azure OpenAI's powerful language models.\n",
    "\n",
    "## What you will learn:\n",
    "\n",
    "In this tutorial, we will cover:\n",
    "- **Setting up the environment:** How to configure your credentials to connect to the Azure OpenAI service.\n",
    "- **Creating an Azure OpenAI Client:** Initializing the client to interact with the API.\n",
    "- **Making API Calls:** Sending prompts to the model and receiving responses.\n",
    "- **Streaming Responses:** Implementing real-time, token-by-token responses for a more interactive experience.\n",
    "- **Building a Simple Chat Function:** Encapsulating the logic into a reusable function.\n",
    "- **Understanding Limitations:** Exploring the inherent limitations of a basic chatbot, such as lack of memory and real-time data access.\n",
    "- **Exploring Solutions:** Briefly touching upon advanced techniques like Retrieval-Augmented Generation (RAG), fine-tuning, and tool calling to overcome these limitations.\n",
    "\n",
    "By the end of this notebook, you will have a functional chatbot and a solid understanding of the core concepts required to build more advanced conversational AI applications. Let's get started!"
   ]
  },
  {
   "cell_type": "markdown",
   "id": "1ebc74f8",
   "metadata": {},
   "source": [
    "# Environment Setup\n",
    "\n",
    "- Ensure that:\n",
    "    1. Your virtual environment (venv) is setup and activated\n",
    "    2. You have installed all the requirements in the requirements.txt file.\n",
    "    3. The `.env` file with these credentials:\n",
    "        - AZURE_OPENAI_KEY\n",
    "        - AZURE_OPENAI_ENDPOINT\n",
    "        - AZURE_OPENAI_DEPLOYMENT_NAME\n",
    "        - AZURE_OPENAI_VERSION\n",
    "        - AZURE_OPENAI_MODEL"
   ]
  },
  {
   "cell_type": "code",
   "execution_count": 1,
   "id": "7fda4afe",
   "metadata": {},
   "outputs": [],
   "source": [
    "# Check and install dependencies if needed\n",
    "# Uncomment and run if required\n",
    "\n",
    "# !pip install python-dotenv\n",
    "# !pip install openai"
   ]
  },
  {
   "cell_type": "code",
   "execution_count": 10,
   "id": "b8f829da",
   "metadata": {},
   "outputs": [
    {
     "data": {
      "text/plain": [
       "True"
      ]
     },
     "execution_count": 10,
     "metadata": {},
     "output_type": "execute_result"
    }
   ],
   "source": [
    "from openai import AzureOpenAI\n",
    "import os\n",
    "from dotenv import load_dotenv, find_dotenv\n",
    "load_dotenv(find_dotenv())"
   ]
  },
  {
   "cell_type": "markdown",
   "id": "7732e9b5",
   "metadata": {},
   "source": [
    "## Get Azure OpenAI Keys"
   ]
  },
  {
   "cell_type": "code",
   "execution_count": 11,
   "id": "699fa3d8",
   "metadata": {},
   "outputs": [],
   "source": [
    "# Get the Keys\n",
    "API_KEY = os.environ.get(\"AZURE_OPENAI_KEY\") \n",
    "API_ENDPOINT = os.environ.get(\"AZURE_OPENAI_ENDPOINT\")\n",
    "AZURE_DEPLOYMENT = os.environ.get(\"AZURE_OPENAI_DEPLOYMENT_NAME_V2\")\n",
    "API_VERSION = os.environ.get(\"AZURE_OPENAI_VERSION\")\n",
    "MODEL = os.environ.get(\"AZURE_OPENAI_MODEL\")"
   ]
  },
  {
   "cell_type": "code",
   "execution_count": 12,
   "id": "25749261",
   "metadata": {},
   "outputs": [
    {
     "data": {
      "text/plain": [
       "'https://20892-mcws95go-swedencentral.cognitiveservices.azure.com/'"
      ]
     },
     "execution_count": 12,
     "metadata": {},
     "output_type": "execute_result"
    }
   ],
   "source": [
    "API_ENDPOINT"
   ]
  },
  {
   "cell_type": "code",
   "execution_count": 13,
   "id": "e81b5f83",
   "metadata": {},
   "outputs": [
    {
     "data": {
      "text/plain": [
       "'gpt-4o-mini-v2'"
      ]
     },
     "execution_count": 13,
     "metadata": {},
     "output_type": "execute_result"
    }
   ],
   "source": [
    "AZURE_DEPLOYMENT"
   ]
  },
  {
   "cell_type": "code",
   "execution_count": 14,
   "id": "0edc29f2",
   "metadata": {},
   "outputs": [
    {
     "data": {
      "text/plain": [
       "'2025-01-01-preview'"
      ]
     },
     "execution_count": 14,
     "metadata": {},
     "output_type": "execute_result"
    }
   ],
   "source": [
    "API_VERSION"
   ]
  },
  {
   "cell_type": "code",
   "execution_count": 15,
   "id": "71d3bafc",
   "metadata": {},
   "outputs": [
    {
     "data": {
      "text/plain": [
       "'gpt-4o-mini'"
      ]
     },
     "execution_count": 15,
     "metadata": {},
     "output_type": "execute_result"
    }
   ],
   "source": [
    "MODEL"
   ]
  },
  {
   "cell_type": "markdown",
   "id": "e041767c",
   "metadata": {},
   "source": [
    "## Create the client"
   ]
  },
  {
   "cell_type": "code",
   "execution_count": 16,
   "id": "c398048c",
   "metadata": {},
   "outputs": [],
   "source": [
    "# Create client\n",
    "client = AzureOpenAI(\n",
    "  default_headers={\"Ocp-Apim-Subscription-Key\": API_KEY},\n",
    "  api_key=API_KEY,\n",
    "  azure_endpoint=API_ENDPOINT,\n",
    "  azure_deployment= AZURE_DEPLOYMENT,\n",
    "  api_version=API_VERSION, \n",
    ")"
   ]
  },
  {
   "cell_type": "markdown",
   "id": "45b9443e",
   "metadata": {},
   "source": [
    "## Create completions"
   ]
  },
  {
   "cell_type": "code",
   "execution_count": 17,
   "id": "542ff7ac",
   "metadata": {},
   "outputs": [],
   "source": [
    "# test a simple chat completion\n",
    "# This is a simple chat completion request to test the connection and functionality of the Azure OpenAI\n",
    "# client. It sends a message to the model and retrieves the response.\n",
    "# The model used is specified by the MODEL variable, which is set to \"gpt-4o-mini\" in this case.\n",
    "# The response is expected to be a long joke, as specified in the user message.\n",
    "completion = client.chat.completions.create(\n",
    "  model=MODEL, \n",
    "  messages=[\n",
    "    {\n",
    "      \"role\": \"user\",\n",
    "      \"content\": \"Tell me a long joke\",\n",
    "    },\n",
    "  ],\n",
    ")\n",
    "\n",
    "response = completion.choices[0].message.content"
   ]
  },
  {
   "cell_type": "code",
   "execution_count": 7,
   "id": "0411d585",
   "metadata": {},
   "outputs": [
    {
     "name": "stdout",
     "output_type": "stream",
     "text": [
      "Once upon a time in a small village, there lived a man named Fred who had a peculiar obsession with collecting hats. He had hats of all shapes, sizes, and colors, but his favorite was a large, bright red top hat that he wore everywhere. The villagers started calling him “Fred the Hat Man.”\n",
      "\n",
      "One day, Fred decided to organize a grand parade to showcase his hat collection. He was so excited that he spent weeks planning, inviting everyone to come and enjoy the festivities. The day of the parade arrived, and all the villagers gathered in the town square. Fred, wearing his beloved red top hat, stood on a stage to kick off the event.\n",
      "\n",
      "“Welcome, everyone!” he shouted, waving his arms enthusiastically. “Today, we celebrate hats! I’ve got hats from all over the world, and I can’t wait to show you my favorites!”\n",
      "\n",
      "The villagers cheered, and Fred started to unveil his impressive collection. He showcased a sombrero from Mexico, a chef’s hat from France, and even a cowboy hat from Texas. Each time he revealed a new hat, he told an elaborate story about how he acquired it, making everyone laugh and clap in delight.\n",
      "\n",
      "But just as Fred was about to reveal his prized possession—the enormous red top hat—something unexpected happened. A gust of wind swept through the square, blowing hats off the heads of the villagers. It was a chaotic scene as hats flew in all directions! People ran around trying to catch their hats, while Fred stood frozen in shock.\n",
      "\n",
      "Seeing the commotion, Fred decided to take action. He climbed down from the stage, determined to save his beloved red top hat. He sprinted through the village, dodging flying hats like a contestant in an obstacle course. Just when he thought he had a clear shot at his top hat, he noticed it caught in a tree!\n",
      "\n",
      "Fred waved at the villagers, “Don’t worry, folks! I’ll get it down!” He climbed the tree, deftly maneuvering through the branches. With every inch he climbed, he could hear the villagers cheering him on.\n",
      "\n",
      "Finally, he reached the top, and there it was—his magnificent top hat, caught on a branch. “I got it!” he shouted triumphantly. But in his excitement, Fred lost his balance. He tumbled down from the tree, rolling to the ground with a loud thud, but in a hilarious twist, he landed right inside a giant cake that the villagers had baked for the celebration!\n",
      "\n",
      "The villagers erupted in laughter, and Fred, covered in frosting but still holding his precious top hat, stood up and raised it high. “See? Even a fall has its sweet spots!” he joked, and the crowd roared with laughter.\n",
      "\n",
      "From that day on, Fred wasn’t just known for his hat collection; he became the village’s favorite comedian. And every year, they celebrated the “Great Hat Parade,” where they would make sure to have an extra-large cake just for Fred—after all, who wouldn’t want to celebrate knocking a hat off the tree with a cake, and a good laugh? \n",
      "\n",
      "And so, Fred learned that sometimes, it’s not just the hats you wear but the laughter you share that makes a celebration truly special!\n"
     ]
    }
   ],
   "source": [
    "print(response)"
   ]
  },
  {
   "cell_type": "code",
   "execution_count": 9,
   "id": "9c27b505",
   "metadata": {},
   "outputs": [
    {
     "name": "stdout",
     "output_type": "stream",
     "text": [
      "Once upon a time in a small town, there was a man named Bob who was known for his terrible luck. Really, it was legendary. If something could go wrong, it would.\n",
      "\n",
      "One day, Bob decided that he needed a change in his life. He was tired of his streak of bad luck, so he went to see a fortune teller, hoping for some insight into his future.\n",
      "\n",
      "The fortune teller, Madame Zorba, sat in a dimly lit room filled with odd trinkets and the smell of incense. She had a crystal ball that seemed to glow with an otherworldly light.\n",
      "\n",
      "\"What is it that you seek, dear Bob?\" she asked.\n",
      "\n",
      "\"I want to know if my luck will ever change,\" he replied, looking hopeful.\n",
      "\n",
      "Madame Zorba gazed into her crystal ball and said, \"Ah, I see… I see… I see a great adventure in your future. It will be challenging, but if you persevere, you will find what you seek.\"\n",
      "\n",
      "Excited by this revelation, Bob left the fortune teller feeling optimistic. He wasn’t sure what his great adventure would be, but he was ready to face it head-on.\n",
      "\n",
      "The next day, he was walking through town when he saw a flyer for a treasure hunt. The prize was a huge pot of gold! This was it! The adventure Madame Zorba had predicted! He quickly signed up.\n",
      "\n",
      "On the day of the treasure hunt, Bob met the other contestants and listened attentively to the rules. They were given maps and clues, and the hunt began. Everyone rushed off, while Bob took a moment to study the clues carefully.\n",
      "\n",
      "As he followed the treasure map, Bob faced a series of hilarious challenges. First, he had to cross a muddy swamp. Each step made him sink deeper, and he ended up covered head to toe in muck. However, he managed to keep going.\n",
      "\n",
      "Next, he encountered a fierce dog guarding the next clue. He fished out some treats from his pocket (which he always carried in case of a snack emergency) and gave them to the dog, who surprisingly loved him. Bob passed the dog with newfound confidence.\n",
      "\n",
      "Finally, after what felt like hours of misadventures, he reached the final location marked on the map. It was an old, rickety shack, and inside, Bob found a dusty old chest. Heart pounding, he opened it, expecting to see heaps of gold coins.\n",
      "\n",
      "Instead, he found a note that read: \"Congratulations! You've made it to the end! Your true treasure is… the friends you made along the way!\"\n",
      "\n",
      "Feeling deflated, Bob grumbled as he left the shack. He walked back into town, covered in mud, with no gold to show for his efforts. Then he heard some laughter. He followed the sound and found a group of contestants who had also “failed” the treasure hunt, sitting at a café.\n",
      "\n",
      "Bob sat down with them, and they began sharing their own mishaps and laughter about the wild day they’d had. It turned out they were all just as unlucky as him, but instead of feeling sorry for themselves, they embraced the humor in their failures.\n",
      "\n",
      "As the sun began to set, Bob realized he hadn’t found a pot of gold, but he had found something better: friendship and laughter. He raised his glass and said, “Here’s to terrible luck and good friends!”\n",
      "\n",
      "They all cheered, and in that moment, Bob had a revelation. Perhaps his luck had turned after all! After finishing his drink, he decided to leave. On his way out, he tripped and landed right in front of a janitor, who just so happened to be holding a multi-million dollar lottery ticket that had gone missing earlier that day.\n",
      "\n",
      "“Hey, buddy, watch where you’re falling!” the janitor exclaimed. “This ticket is worth a fortune!”\n",
      "\n",
      "Bob stood up, dusted himself off, and smiled. “Maybe my luck isn’t so bad after all!”\n",
      "\n",
      "And the moral of the story? Sometimes bad luck leads you to the best treasures… as long as you don’t mind a bit of mud!"
     ]
    }
   ],
   "source": [
    "# Streaming response\n",
    "# This code demonstrates how to stream a chat completion response from the Azure OpenAI client.\n",
    "# It uses the `stream=True` parameter to receive the response in chunks, allowing for real-time updates.\n",
    "# The response is printed as it is received, with each chunk's content being printed\n",
    "# without any additional formatting.\n",
    "completion = client.chat.completions.create(\n",
    "  model=MODEL, \n",
    "  stream=True,\n",
    "  messages=[\n",
    "    {\n",
    "      \"role\": \"user\",\n",
    "      \"content\": \"Tell me a long joke\",\n",
    "    },\n",
    "  ],\n",
    ")\n",
    "\n",
    "for chunk in completion:\n",
    "  try:\n",
    "    print(chunk.choices[0].delta.content or \"\", end=\"\")\n",
    "  except Exception:\n",
    "    pass"
   ]
  },
  {
   "cell_type": "markdown",
   "id": "c28f3e3c",
   "metadata": {},
   "source": [
    "# Create a Basic Chatbot\n",
    "- create a simple function to chat with the bot\n",
    "- This function will take a prompt as input and return the bot's response"
   ]
  },
  {
   "cell_type": "code",
   "execution_count": null,
   "id": "ca261329",
   "metadata": {},
   "outputs": [],
   "source": [
    "# Create a Basic Chatbot\n",
    "# - create a simple function to chat with the bot\n",
    "# - This function will take a prompt as input and return the bot's response\n",
    "def chat_with_bot(prompt):\n",
    "  completion = client.chat.completions.create(\n",
    "    model=MODEL, \n",
    "    stream=True, # if you want to stream the response, set this variable to True, and the chat will be streamed through choices[0].delta.content output format\n",
    "    messages=[\n",
    "      {\n",
    "        \"role\": \"user\",\n",
    "        \"content\": prompt,\n",
    "      },\n",
    "    ],\n",
    "  )\n",
    "\n",
    "  for chunk in completion:\n",
    "    try:\n",
    "      print(chunk.choices[0].delta.content or \"\", end=\"\")\n",
    "    except Exception:\n",
    "      pass"
   ]
  },
  {
   "cell_type": "code",
   "execution_count": 10,
   "id": "e592a51c",
   "metadata": {},
   "outputs": [
    {
     "name": "stdout",
     "output_type": "stream",
     "text": [
      "**Whispers of Existence**\n",
      "\n",
      "In the cradle of dawn, where the shadows retreat,  \n",
      "Life dances softly, on rhythm's heartbeat.  \n",
      "A tapestry woven with threads of our dreams,  \n",
      "In each fleeting moment, the universe gleams.  \n",
      "\n",
      "With laughter like sunlight, we chase after time,  \n",
      "In the laughter of children, in nature's pure rhyme.  \n",
      "The meaning, it ebbs like the tide's gentle flow,  \n",
      "In love and connection, its true essence grows.  \n",
      "\n",
      "Through valleys of sorrow, we wander and roam,  \n",
      "Finding strength in the trials that lead us back home.  \n",
      "For the pebbles we stumble on, lessons they bring,  \n",
      "In the heart of our struggles, the soul learns to sing.  \n",
      "\n",
      "Beneath the vast cosmos, our spirits ignite,  \n",
      "In the beauty of kindness, our hearts take flight.  \n",
      "A whisper of purpose in the breeze's soft sigh,  \n",
      "Each moment a treasure, like stars in the sky.  \n",
      "\n",
      "So gather the fragments, embrace every day,  \n",
      "In the dance of existence, let your spirit sway.  \n",
      "For the meaning of life is a mosaic of grace,  \n",
      "In the love that we share, in the smiles that we trace.  \n",
      "\n",
      "In the end, it’s a journey, not a destination,  \n",
      "A symphony played in harmonious creation.  \n",
      "So walk hand in hand, with wonder, explore,  \n",
      "In the whispers of life, there’s always a door.  None\n"
     ]
    }
   ],
   "source": [
    "user_input = \"Tell me a nice poem about the meaning of life\"\n",
    "print(chat_with_bot(user_input))"
   ]
  },
  {
   "cell_type": "code",
   "execution_count": 11,
   "id": "b7202e47",
   "metadata": {},
   "outputs": [
    {
     "name": "stdout",
     "output_type": "stream",
     "text": [
      "Machine Learning (ML) is a subset of artificial intelligence (AI) that focuses on the development of algorithms and statistical models that enable computers to perform specific tasks without being explicitly programmed for those tasks. Instead of relying solely on hard-coded rules, machine learning algorithms use patterns and inference from data to improve their performance over time.\n",
      "\n",
      "### Key Aspects of Machine Learning:\n",
      "\n",
      "1. **Data-Driven**: ML systems learn from data. The more data they have, the better they can identify patterns and make predictions.\n",
      "\n",
      "2. **Types of Learning**:\n",
      "   - **Supervised Learning**: The model is trained on labeled data, where the input-output pairs are known. The model learns to map inputs to outputs and can make predictions on new, unseen data (e.g., regression, classification).\n",
      "   - **Unsupervised Learning**: The model works with unlabeled data and tries to find hidden patterns or intrinsic structures in the input data (e.g., clustering, dimensionality reduction).\n",
      "   - **Semi-Supervised Learning**: A combination of labeled and unlabeled data is used to improve learning accuracy.\n",
      "   - **Reinforcement Learning**: The model learns by interacting with an environment and receiving rewards or penalties based on the actions taken, optimizing its strategy over time.\n",
      "\n",
      "3. **Applications**: Machine learning has a wide range of applications, including:\n",
      "   - Image and speech recognition\n",
      "   - Natural language processing (NLP)\n",
      "   - Recommendation systems (e.g., movie or product recommendations)\n",
      "   - Fraud detection\n",
      "   - Autonomous vehicles\n",
      "   - Healthcare diagnostics\n",
      "\n",
      "4. **Techniques and Algorithms**: There are many algorithms used in machine learning, including:\n",
      "   - Linear Regression\n",
      "   - Decision Trees\n",
      "   - Support Vector Machines (SVM)\n",
      "   - Neural Networks (including deep learning)\n",
      "   - k-Nearest Neighbors (k-NN)\n",
      "   - Random Forests\n",
      "\n",
      "5. **Challenges**: Some common challenges in machine learning include overfitting (where a model learns noise in the training data rather than the underlying pattern), underfitting (where a model is too simple to capture the complexity of the data), and bias in data that can lead to unfair outcomes.\n",
      "\n",
      "In summary, machine learning is a powerful tool for analyzing complex data, enabling computers to achieve remarkable tasks that require a level of intelligence traditionally thought to be exclusive to humans.None\n"
     ]
    }
   ],
   "source": [
    "user_input = \"what is Machine Learning?\"\n",
    "print(chat_with_bot(user_input))\n"
   ]
  },
  {
   "cell_type": "code",
   "execution_count": 12,
   "id": "155aa643",
   "metadata": {},
   "outputs": [
    {
     "name": "stdout",
     "output_type": "stream",
     "text": [
      "South Africa is located at the southern tip of the African continent. It is bordered by the Atlantic Ocean to the west, the Indian Ocean to the south and east, Namibia to the northwest, Botswana to the north, and Zimbabwe to the northeast. Additionally, it shares borders with Eswatini (formerly Swaziland) and surrounds the Kingdom of Lesotho, which is an independent country entirely encircled by South African territory.None\n"
     ]
    }
   ],
   "source": [
    "user_input = \"where is South Africa located?\"\n",
    "print(chat_with_bot(user_input))"
   ]
  },
  {
   "cell_type": "code",
   "execution_count": 13,
   "id": "804c28ed",
   "metadata": {},
   "outputs": [
    {
     "name": "stdout",
     "output_type": "stream",
     "text": [
      "In Tsotsi Taal, which is a mix of Afrikaans, English, and various South African slang terms, \"Hello, how are you?\" could be translated as \"Hey, howzit?\" or \"Hey, wena?\"None\n"
     ]
    }
   ],
   "source": [
    "user_input = \"Transalate 'Hello, how are you?' to Tsotsi taal\"\n",
    "print(chat_with_bot(user_input))"
   ]
  },
  {
   "cell_type": "code",
   "execution_count": 14,
   "id": "da2ae78d",
   "metadata": {},
   "outputs": [
    {
     "name": "stdout",
     "output_type": "stream",
     "text": [
      "I'm sorry, but I don't have access to previous interactions or questions you've asked. Each session is treated independently, and I cannot recall past conversations. How can I assist you today?None\n"
     ]
    }
   ],
   "source": [
    "# Limitations 1: No memory\n",
    "user_input = \"What was my previous question?\"\n",
    "print(chat_with_bot(user_input))"
   ]
  },
  {
   "cell_type": "code",
   "execution_count": 15,
   "id": "f8180175",
   "metadata": {},
   "outputs": [
    {
     "name": "stdout",
     "output_type": "stream",
     "text": [
      "I don't have real-time data access to provide current weather updates. To find the weather in Cape Town today, I recommend checking a reliable weather website or a weather app for the most accurate and up-to-date information.None\n"
     ]
    }
   ],
   "source": [
    "# Limitations 2: No real-time data access\n",
    "user_input = \"what is the weather today in Cape Town?\"\n",
    "print(chat_with_bot(user_input))"
   ]
  },
  {
   "cell_type": "markdown",
   "id": "24741c0c",
   "metadata": {},
   "source": [
    "## Limitations\n",
    "\n",
    "- The above code is a basic implementation of a chatbot using Azure OpenAI.\n",
    "- It does not have real-time data access or integration with your business or company data.\n",
    "- It does not have memory or session state to remember previous interactions.\n",
    "- It does not handle errors, manage conversation history, or provide a user interface.\n",
    "\n",
    "## Solutions\n",
    "\n",
    "- **Retrieval-Augmented Generation (RAG):** Integrate external data sources to provide more relevant and up-to-date responses.\n",
    "- **Fine-tuning:** Customize the model with domain-specific data to improve accuracy and relevance.\n",
    "- **Tool Calling:** Enable the chatbot to use external tools or APIs for enhanced capabilities and automation.\n",
    "\n",
    "## Resources:\n",
    "- https://platform.openai.com/docs/quickstart?api-mode=responses\n"
   ]
  },
  {
   "cell_type": "markdown",
   "id": "42a9b16a",
   "metadata": {},
   "source": []
  }
 ],
 "metadata": {
  "kernelspec": {
   "display_name": ".venv",
   "language": "python",
   "name": "python3"
  },
  "language_info": {
   "codemirror_mode": {
    "name": "ipython",
    "version": 3
   },
   "file_extension": ".py",
   "mimetype": "text/x-python",
   "name": "python",
   "nbconvert_exporter": "python",
   "pygments_lexer": "ipython3",
   "version": "3.12.0"
  }
 },
 "nbformat": 4,
 "nbformat_minor": 5
}
