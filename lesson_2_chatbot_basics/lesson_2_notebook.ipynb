{
 "cells": [
  {
   "cell_type": "markdown",
   "id": "20536ec2",
   "metadata": {},
   "source": [
    "# Building a Basic Chatbot with Large Language Models (LLMs)\n",
    "\n",
    "Large Language Models (LLMs) have revolutionized the way we interact with technology, making it possible to create sophisticated conversational AI with relative ease. This notebook will guide you through the fundamental steps of building a basic chatbot using Azure OpenAI's powerful language models.\n",
    "\n",
    "## What you will learn:\n",
    "\n",
    "In this tutorial, we will cover:\n",
    "- **Setting up the environment:** How to configure your credentials to connect to the Azure OpenAI service.\n",
    "- **Creating an Azure OpenAI Client:** Initializing the client to interact with the API.\n",
    "- **Making API Calls:** Sending prompts to the model and receiving responses.\n",
    "- **Streaming Responses:** Implementing real-time, token-by-token responses for a more interactive experience.\n",
    "- **Building a Simple Chat Function:** Encapsulating the logic into a reusable function.\n",
    "- **Understanding Limitations:** Exploring the inherent limitations of a basic chatbot, such as lack of memory and real-time data access.\n",
    "- **Exploring Solutions:** Briefly touching upon advanced techniques like Retrieval-Augmented Generation (RAG), fine-tuning, and tool calling to overcome these limitations.\n",
    "\n",
    "By the end of this notebook, you will have a functional chatbot and a solid understanding of the core concepts required to build more advanced conversational AI applications. Let's get started!"
   ]
  },
  {
   "cell_type": "markdown",
   "id": "1ebc74f8",
   "metadata": {},
   "source": [
    "# Environment Setup\n",
    "\n",
    "- Ensure that:\n",
    "    1. Your virtual environment (venv) is setup and activated\n",
    "    2. You have installed all the requirements in the requirements.txt file.\n",
    "    3. The `.env` file with these credentials:\n",
    "        - AZURE_OPENAI_KEY\n",
    "        - AZURE_OPENAI_ENDPOINT\n",
    "        - AZURE_OPENAI_DEPLOYMENT_NAME\n",
    "        - AZURE_OPENAI_VERSION\n",
    "        - AZURE_OPENAI_MODEL"
   ]
  },
  {
   "cell_type": "code",
   "execution_count": 1,
   "id": "7fda4afe",
   "metadata": {},
   "outputs": [],
   "source": [
    "# Check and install dependencies if needed\n",
    "# Uncomment and run if required\n",
    "\n",
    "# !pip install python-dotenv\n",
    "# !pip install openai"
   ]
  },
  {
   "cell_type": "code",
   "execution_count": 1,
   "id": "b8f829da",
   "metadata": {},
   "outputs": [
    {
     "data": {
      "text/plain": [
       "True"
      ]
     },
     "execution_count": 1,
     "metadata": {},
     "output_type": "execute_result"
    }
   ],
   "source": [
    "from openai import AzureOpenAI\n",
    "import os\n",
    "from dotenv import load_dotenv, find_dotenv\n",
    "load_dotenv(find_dotenv())"
   ]
  },
  {
   "cell_type": "markdown",
   "id": "7732e9b5",
   "metadata": {},
   "source": [
    "## Get Azure OpenAI Keys"
   ]
  },
  {
   "cell_type": "code",
   "execution_count": 2,
   "id": "699fa3d8",
   "metadata": {},
   "outputs": [],
   "source": [
    "# Get the Keys\n",
    "API_KEY = os.environ.get(\"AZURE_OPENAI_KEY\") \n",
    "API_ENDPOINT = os.environ.get(\"AZURE_OPENAI_ENDPOINT\")\n",
    "AZURE_DEPLOYMENT = os.environ.get(\"AZURE_OPENAI_DEPLOYMENT_NAME_V2\")\n",
    "API_VERSION = os.environ.get(\"AZURE_OPENAI_VERSION\")\n",
    "MODEL = os.environ.get(\"AZURE_OPENAI_MODEL\")"
   ]
  },
  {
   "cell_type": "code",
   "execution_count": 3,
   "id": "7af33868",
   "metadata": {},
   "outputs": [
    {
     "data": {
      "text/plain": [
       "'gpt-4o-mini'"
      ]
     },
     "execution_count": 3,
     "metadata": {},
     "output_type": "execute_result"
    }
   ],
   "source": [
    "MODEL"
   ]
  },
  {
   "cell_type": "markdown",
   "id": "e041767c",
   "metadata": {},
   "source": [
    "## Create the client"
   ]
  },
  {
   "cell_type": "code",
   "execution_count": 4,
   "id": "c398048c",
   "metadata": {},
   "outputs": [],
   "source": [
    "# Create client\n",
    "client = AzureOpenAI(\n",
    "  default_headers={\"Ocp-Apim-Subscription-Key\": API_KEY},\n",
    "  api_key=API_KEY,\n",
    "  azure_endpoint=API_ENDPOINT,\n",
    "  azure_deployment= AZURE_DEPLOYMENT,\n",
    "  api_version=API_VERSION, \n",
    ")"
   ]
  },
  {
   "cell_type": "markdown",
   "id": "45b9443e",
   "metadata": {},
   "source": [
    "## Create completions"
   ]
  },
  {
   "cell_type": "code",
   "execution_count": 5,
   "id": "542ff7ac",
   "metadata": {},
   "outputs": [],
   "source": [
    "# test a simple chat completion\n",
    "# This is a simple chat completion request to test the connection and functionality of the Azure OpenAI\n",
    "# client. It sends a message to the model and retrieves the response.\n",
    "# The model used is specified by the MODEL variable, which is set to \"gpt-4o-mini\" in this case.\n",
    "# The response is expected to be a long joke, as specified in the user message.\n",
    "completion = client.chat.completions.create(\n",
    "  model=MODEL, \n",
    "  messages=[\n",
    "    {\n",
    "      \"role\": \"user\",\n",
    "      \"content\": \"Tell me a long joke\",\n",
    "    },\n",
    "  ],\n",
    ")\n",
    "\n",
    "response = completion.choices[0].message.content"
   ]
  },
  {
   "cell_type": "code",
   "execution_count": 6,
   "id": "0411d585",
   "metadata": {},
   "outputs": [
    {
     "name": "stdout",
     "output_type": "stream",
     "text": [
      "Sure! Here’s a long joke for you:\n",
      "\n",
      "Once upon a time in a small village, there was a man named Bob who was known for telling the best jokes. Everybody loved him for his humor, especially during the village fairs where he would always have a crowd gathered around him. One year, Bob decided to challenge himself and set out to find the funniest joke in the world to bring back to the village.\n",
      "\n",
      "He traveled far and wide, visiting different cities, meeting comedians, and attending comedy clubs. After many months of searching, he finally arrived at a mysterious town known as Laughterville. It was said that the funniest man in the world lived there. \n",
      "\n",
      "Excited, Bob sought out this man, who turned out to be an old hermit living in a shack on a hill. The hermit looked at Bob and said, “I can tell you the funniest joke, but it will cost you something very valuable.” Intrigued, Bob asked what he wanted, and the hermit replied, “I want your sense of humor.”\n",
      "\n",
      "Bob, thinking this was a fair trade for hilarity, agreed. The hermit then leaned in and whispered the joke in Bob's ear. It was the funniest joke he had ever heard! Laughing uncontrollably, Bob thanked the hermit and rushed back to his village.\n",
      "\n",
      "Once he arrived, he gathered everyone in the town square and prepared to share the funniest joke in the world. The crowd was buzzing with excitement, and Bob could hardly contain himself as he began to tell the joke. However, with each word he spoke, he grew more and more serious until he was completely straight-faced.\n",
      "\n",
      "The audience, expecting laughter, looked confused. When Bob finally finished, there was complete silence. Not a single person laughed. Bob was shocked and disappointed. He tried again, but still, no laughter. \n",
      "\n",
      "The villagers didn't know what to do. They went home puzzled, thinking that maybe Bob had lost his touch. Bob, clueless as to why the joke fell flat, went back to the hermit to find out what went wrong. \n",
      "\n",
      "When he met the hermit again, he explained the situation. The hermit chuckled, shaking his head, and said, \"You see, my dear boy, when you gave away your sense of humor, you also lost the ability to deliver the joke! It’s not just the words that matter; it’s how you say them!”\n",
      "\n",
      "Bob was devastated. “What can I do? I need my humor back!” he pleaded.\n",
      "\n",
      "The hermit thought for a moment and then said, “Alright, I’ll give you back your sense of humor, but only if you can make me laugh.”\n",
      "\n",
      "Bob pondered for a second and then told a silly knock-knock joke. The hermit just stared at him. Bob then tried a classic pun, and again, no response. Finally, in desperation, Bob decided to do a silly dance right in front of the hermit. \n",
      "\n",
      "The hermit couldn't help but burst out laughing, his cheeks turning red. “Alright, you’ve got your sense of humor back!” he said, wiping tears from his eyes.\n",
      "\n",
      "Bob was thrilled and rushed back to the village. This time, when he told the joke, he added his signature flair and delivery. Everyone roared with laughter, and from that day on, Bob learned that the key to humor is not just the joke itself but also the joy and fun you bring to it.\n",
      "\n",
      "And so, in the village, whenever someone asked, “What’s the funniest joke you know?” they would all reply with a grin, “It’s the one that Bob can tell when he’s dancing!” \n",
      "\n",
      "And that was how Bob became a legend, not just for that one funny joke but for the joy he brought in sharing laughter with everyone. \n",
      "\n",
      "The end!\n"
     ]
    }
   ],
   "source": [
    "print(response)"
   ]
  },
  {
   "cell_type": "code",
   "execution_count": 7,
   "id": "9c27b505",
   "metadata": {},
   "outputs": [
    {
     "name": "stdout",
     "output_type": "stream",
     "text": [
      "Sure! Here’s a longer joke for you:\n",
      "\n",
      "Once upon a time in a small village, there lived a farmer named Joe. Now, Joe was not your average farmer; he had a wonderful sense of humor and loved to tell jokes. Every morning, he'd go to the village market to sell his produce, and he'd always have a joke ready to share with the other farmers and customers.\n",
      "\n",
      "One sunny day, Joe decided to take a different approach. He thought, “Why not sell my vegetables in a way that brings even more joy?” So, he hung a big sign over his stall that read, “The Funniest Veggie Stall in Town!”\n",
      "\n",
      "Curious villagers gathered around, eager to see what Joe had in store. As they approached, Joe greeted them with a big smile and said, “Welcome, welcome! Are you ready for some laughs along with your fresh veggies?”\n",
      "\n",
      "The villagers were intrigued, and Joe began his routine. He would hold up each vegetable and tell a joke related to it. “What kind of vegetable loves to play music?” he asked, holding up a carrot. “A tu-drumstick!” The crowd roared with laughter.\n",
      "\n",
      "Next, he picked up a tomato and said, “Why did the tomato turn red?” The villagers shouted, “Why?” Joe replied, “Because it saw the salad dressing!” The laughter grew louder.\n",
      "\n",
      "Joe continued, and soon his stall was packed with people, all enjoying his jokes as much as the produce. But among the crowd was Blanch, the village’s straight-laced librarian. She would shake her head and say, “These jokes are silly, Joe. A good joke is like a book—well-crafted and deep.”\n",
      "\n",
      "Joe loved a good challenge and decided to make Blanch laugh. He thought for a moment and then said, “Alright, Blanch, what’s your idea of a good joke?”\n",
      "\n",
      "She pondered and said, “A good joke is like a fine wine, it needs to be aged properly.”\n",
      "\n",
      "Joe’s eyes twinkled. He grabbed a bunch of grapes and held them high. “Then how about this? Why did the grape stop in the middle of the road?”\n",
      "\n",
      "Blanch crossed her arms, unimpressed, but the villagers leaned in. Joe paused dramatically, then exclaimed, “Because it ran out of juice!” \n",
      "\n",
      "Blanch couldn’t help it; she chuckled just a little, but quickly regained her composure. “That’s just a silly pun, Joe.”\n",
      "\n",
      "Sensing victory, Joe pressed on, “Okay, one more! What did one grape say to the other grape?”\n",
      "\n",
      "Now Blanch was slightly curious. “What?”\n",
      "\n",
      "Joe bellowed, “We’re in a jam!” \n",
      "\n",
      "This time, the villagers erupted in laughter, and even Blanch managed to suppress a smile.\n",
      "\n",
      "At the end of the day, Joe had sold more vegetables than ever before, not just because of the jokes, but because he brought joy to the people. Blanch couldn’t deny it; maybe there was something to Joe’s humor after all.\n",
      "\n",
      "As she left the market, Blanch turned and said, “You know, Joe, maybe your jokes are more than just silly—they keep the spirit bright.”\n",
      "\n",
      "Joe grinned, replying, “And who knows, maybe laughter is the best fertilizer after all!”\n",
      "\n",
      "From that day on, the villagers not only flocked to Joe’s stall for the freshest produce, but they also came for the laughter, proving that sometimes, the best things in life really do grow together! \n",
      "\n",
      "And that’s how farmer Joe became not just a produce seller, but the life of the village party—one pun at a time!"
     ]
    }
   ],
   "source": [
    "# Streaming response\n",
    "# This code demonstrates how to stream a chat completion response from the Azure OpenAI client.\n",
    "# It uses the `stream=True` parameter to receive the response in chunks, allowing for real-time updates.\n",
    "# The response is printed as it is received, with each chunk's content being printed\n",
    "# without any additional formatting.\n",
    "completion = client.chat.completions.create(\n",
    "  model=MODEL, \n",
    "  stream=True,\n",
    "  messages=[\n",
    "    {\n",
    "      \"role\": \"user\",\n",
    "      \"content\": \"Tell me a long joke\",\n",
    "    },\n",
    "  ],\n",
    ")\n",
    "\n",
    "for chunk in completion:\n",
    "  try:\n",
    "    print(chunk.choices[0].delta.content or \"\", end=\"\")\n",
    "  except Exception:\n",
    "    pass"
   ]
  },
  {
   "cell_type": "markdown",
   "id": "c28f3e3c",
   "metadata": {},
   "source": [
    "# Create a Basic Chatbot\n",
    "- create a simple function to chat with the bot\n",
    "- This function will take a prompt as input and return the bot's response"
   ]
  },
  {
   "cell_type": "code",
   "execution_count": 8,
   "id": "ca261329",
   "metadata": {},
   "outputs": [],
   "source": [
    "# Create a Basic Chatbot\n",
    "# - create a simple function to chat with the bot\n",
    "# - This function will take a prompt as input and return the bot's response\n",
    "def chat_with_bot(prompt):\n",
    "  completion = client.chat.completions.create(\n",
    "    model=MODEL, \n",
    "    stream=True, # if you want to stream the response, set this variable to True, and the chat will be streamed through choices[0].delta.content output format\n",
    "    messages=[\n",
    "      {\n",
    "        \"role\": \"user\",\n",
    "        \"content\": prompt,\n",
    "      },\n",
    "    ],\n",
    "  )\n",
    "\n",
    "  for chunk in completion:\n",
    "    try:\n",
    "      print(chunk.choices[0].delta.content or \"\", end=\"\")\n",
    "    except Exception:\n",
    "      pass"
   ]
  },
  {
   "cell_type": "code",
   "execution_count": 9,
   "id": "e592a51c",
   "metadata": {},
   "outputs": [
    {
     "name": "stdout",
     "output_type": "stream",
     "text": [
      "In fields of green where wildflowers sway,  \n",
      "Life dances softly, day by day.  \n",
      "A tapestry woven of joy and strife,  \n",
      "Threads of existence, the meaning of life.  \n",
      "\n",
      "Beneath the sky where the sunbeams play,  \n",
      "Moments of laughter chase shadows away.  \n",
      "In love’s gentle whisper, the heart finds its song,  \n",
      "In the arms of each other, we truly belong.  \n",
      "\n",
      "Through trials and storms, like rivers we flow,  \n",
      "Finding our strength in what we may grow.  \n",
      "Each lesson a step on this winding road,  \n",
      "In every burden, a light will unfold.  \n",
      "\n",
      "So cherish the sunrise, the stars in the night,  \n",
      "Embrace every heartbeat, let your spirit take flight.  \n",
      "For life’s not a puzzle with pieces defined,  \n",
      "But a canvas of wonder, paint freely, unwind.  \n",
      "\n",
      "In kindness and sharing, in dreams we ignite,  \n",
      "In moments of silence, in shared delight.  \n",
      "The meaning of life, not a singular fight,  \n",
      "But a journey of souls, together in light.  None\n"
     ]
    }
   ],
   "source": [
    "user_input = \"Tell me a nice poem about the meaning of life\"\n",
    "print(chat_with_bot(user_input))"
   ]
  },
  {
   "cell_type": "code",
   "execution_count": 10,
   "id": "b7202e47",
   "metadata": {},
   "outputs": [
    {
     "name": "stdout",
     "output_type": "stream",
     "text": [
      "Machine Learning (ML) is a subset of artificial intelligence (AI) that focuses on the development of algorithms and statistical models that enable computers to perform tasks without explicit instructions. Instead of being programmed for specific functions, machine learning systems learn from data, identify patterns, and make decisions based on the information they have processed.\n",
      "\n",
      "Key components of machine learning include:\n",
      "\n",
      "1. **Data**: Machine learning relies on large datasets to train models. These datasets can be labeled (supervised learning) or unlabeled (unsupervised learning).\n",
      "\n",
      "2. **Algorithms**: Various algorithms are used to train models, including linear regression, decision trees, neural networks, support vector machines, and clustering algorithms.\n",
      "\n",
      "3. **Training and Testing**: The model is trained on a portion of the dataset (training set) and validated on another portion (test set) to evaluate its performance and ability to generalize to new, unseen data.\n",
      "\n",
      "4. **Features**: Features are individual measurable properties or characteristics used as input to the machine learning model. Feature selection and engineering are critical for improving model performance.\n",
      "\n",
      "5. **Types of Learning**:\n",
      "   - **Supervised Learning**: The model is trained on labeled data, learning to map inputs to outputs based on provided examples (e.g., classification and regression tasks).\n",
      "   - **Unsupervised Learning**: The model learns from unlabelled data, identifying patterns and structures (e.g., clustering and association).\n",
      "   - **Reinforcement Learning**: The model learns by interacting with an environment, receiving rewards or penalties based on its actions, aiming to maximize cumulative reward.\n",
      "\n",
      "6. **Applications**: Machine learning is widely used across various domains, including finance (fraud detection), healthcare (diagnosis), marketing (customer segmentation), autonomous vehicles, natural language processing, and image recognition.\n",
      "\n",
      "Ultimately, the goal of machine learning is to enable systems to improve their performance over time as they are exposed to more data, making them increasingly effective at tackling complex problems and tasks.None\n"
     ]
    }
   ],
   "source": [
    "user_input = \"what is Machine Learning?\"\n",
    "print(chat_with_bot(user_input))\n"
   ]
  },
  {
   "cell_type": "code",
   "execution_count": 11,
   "id": "155aa643",
   "metadata": {},
   "outputs": [
    {
     "name": "stdout",
     "output_type": "stream",
     "text": [
      "South Africa is located at the southern tip of the African continent. It is bordered by the Atlantic Ocean to the west, the Indian Ocean to the southeast, Namibia to the northwest, Botswana and Zimbabwe to the north, and Mozambique and Eswatini (formerly Swaziland) to the northeast. The country also surrounds the landlocked kingdom of Lesotho. Its strategic location makes it a key player in regional and continental affairs.None\n"
     ]
    }
   ],
   "source": [
    "user_input = \"where is South Africa located?\"\n",
    "print(chat_with_bot(user_input))"
   ]
  },
  {
   "cell_type": "code",
   "execution_count": 12,
   "id": "804c28ed",
   "metadata": {},
   "outputs": [
    {
     "name": "stdout",
     "output_type": "stream",
     "text": [
      "In Tsotsi taal, \"Hello, how are you?\" can be translated to \"Hey, wena, unjani?\" Tsotsi taal is a mix of Afrikaans, English, and various South African languages, so expressions can vary.None\n"
     ]
    }
   ],
   "source": [
    "user_input = \"Transalate 'Hello, how are you?' to Tsotsi taal\"\n",
    "print(chat_with_bot(user_input))"
   ]
  },
  {
   "cell_type": "code",
   "execution_count": 13,
   "id": "da2ae78d",
   "metadata": {},
   "outputs": [
    {
     "name": "stdout",
     "output_type": "stream",
     "text": [
      "I'm sorry, but I don't have access to your previous questions or any prior conversation context. How can I assist you today?None\n"
     ]
    }
   ],
   "source": [
    "# Limitations 1: No memory\n",
    "user_input = \"What was my previous question?\"\n",
    "print(chat_with_bot(user_input))"
   ]
  },
  {
   "cell_type": "code",
   "execution_count": 14,
   "id": "f8180175",
   "metadata": {},
   "outputs": [
    {
     "name": "stdout",
     "output_type": "stream",
     "text": [
      "I'm unable to provide real-time data, including current weather conditions. To find the weather in Cape Town today, I recommend checking a reliable weather website or app for the most accurate and up-to-date information.None\n"
     ]
    }
   ],
   "source": [
    "# Limitations 2: No real-time data access\n",
    "user_input = \"what is the weather today in Cape Town?\"\n",
    "print(chat_with_bot(user_input))"
   ]
  },
  {
   "cell_type": "markdown",
   "id": "24741c0c",
   "metadata": {},
   "source": [
    "## Limitations\n",
    "\n",
    "- The above code is a basic implementation of a chatbot using Azure OpenAI.\n",
    "- It does not have real-time data access or integration with your business or company data.\n",
    "- It does not have memory or session state to remember previous interactions.\n",
    "- It does not handle errors, manage conversation history, or provide a user interface.\n",
    "\n",
    "## Solutions\n",
    "\n",
    "- **Retrieval-Augmented Generation (RAG):** Integrate external data sources to provide more relevant and up-to-date responses.\n",
    "- **Fine-tuning:** Customize the model with domain-specific data to improve accuracy and relevance.\n",
    "- **Tool Calling:** Enable the chatbot to use external tools or APIs for enhanced capabilities and automation.\n",
    "\n",
    "## Resources:\n",
    "- https://platform.openai.com/docs/quickstart?api-mode=responses\n"
   ]
  },
  {
   "cell_type": "markdown",
   "id": "42a9b16a",
   "metadata": {},
   "source": []
  }
 ],
 "metadata": {
  "kernelspec": {
   "display_name": ".venv",
   "language": "python",
   "name": "python3"
  },
  "language_info": {
   "codemirror_mode": {
    "name": "ipython",
    "version": 3
   },
   "file_extension": ".py",
   "mimetype": "text/x-python",
   "name": "python",
   "nbconvert_exporter": "python",
   "pygments_lexer": "ipython3",
   "version": "3.12.0"
  }
 },
 "nbformat": 4,
 "nbformat_minor": 5
}
